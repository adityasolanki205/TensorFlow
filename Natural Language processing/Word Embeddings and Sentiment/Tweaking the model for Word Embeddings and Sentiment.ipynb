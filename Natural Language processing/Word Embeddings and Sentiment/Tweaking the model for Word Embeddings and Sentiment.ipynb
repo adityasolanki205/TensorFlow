{
 "cells": [
  {
   "cell_type": "code",
   "execution_count": 2,
   "metadata": {},
   "outputs": [],
   "source": [
    "import tensorflow  as tf\n",
    "from tensorflow.keras.preprocessing.text import Tokenizer\n",
    "from tensorflow.keras.preprocessing.sequence import pad_sequences"
   ]
  },
  {
   "cell_type": "code",
   "execution_count": 3,
   "metadata": {},
   "outputs": [],
   "source": [
    "import numpy as np\n",
    "import pandas as pd"
   ]
  },
  {
   "cell_type": "code",
   "execution_count": 4,
   "metadata": {},
   "outputs": [],
   "source": [
    "dataset = pd.read_csv('combined_data.csv')"
   ]
  },
  {
   "cell_type": "code",
   "execution_count": 5,
   "metadata": {},
   "outputs": [
    {
     "data": {
      "text/html": [
       "<div>\n",
       "<style scoped>\n",
       "    .dataframe tbody tr th:only-of-type {\n",
       "        vertical-align: middle;\n",
       "    }\n",
       "\n",
       "    .dataframe tbody tr th {\n",
       "        vertical-align: top;\n",
       "    }\n",
       "\n",
       "    .dataframe thead th {\n",
       "        text-align: right;\n",
       "    }\n",
       "</style>\n",
       "<table border=\"1\" class=\"dataframe\">\n",
       "  <thead>\n",
       "    <tr style=\"text-align: right;\">\n",
       "      <th></th>\n",
       "      <th>Unnamed: 0</th>\n",
       "      <th>text</th>\n",
       "      <th>sentiment</th>\n",
       "    </tr>\n",
       "  </thead>\n",
       "  <tbody>\n",
       "    <tr>\n",
       "      <th>0</th>\n",
       "      <td>0</td>\n",
       "      <td>So there is no way for me to plug it in here i...</td>\n",
       "      <td>0</td>\n",
       "    </tr>\n",
       "    <tr>\n",
       "      <th>1</th>\n",
       "      <td>1</td>\n",
       "      <td>Good case Excellent value.</td>\n",
       "      <td>1</td>\n",
       "    </tr>\n",
       "    <tr>\n",
       "      <th>2</th>\n",
       "      <td>2</td>\n",
       "      <td>Great for the jawbone.</td>\n",
       "      <td>1</td>\n",
       "    </tr>\n",
       "    <tr>\n",
       "      <th>3</th>\n",
       "      <td>3</td>\n",
       "      <td>Tied to charger for conversations lasting more...</td>\n",
       "      <td>0</td>\n",
       "    </tr>\n",
       "    <tr>\n",
       "      <th>4</th>\n",
       "      <td>4</td>\n",
       "      <td>The mic is great.</td>\n",
       "      <td>1</td>\n",
       "    </tr>\n",
       "  </tbody>\n",
       "</table>\n",
       "</div>"
      ],
      "text/plain": [
       "   Unnamed: 0                                               text  sentiment\n",
       "0           0  So there is no way for me to plug it in here i...          0\n",
       "1           1                         Good case Excellent value.          1\n",
       "2           2                             Great for the jawbone.          1\n",
       "3           3  Tied to charger for conversations lasting more...          0\n",
       "4           4                                  The mic is great.          1"
      ]
     },
     "execution_count": 5,
     "metadata": {},
     "output_type": "execute_result"
    }
   ],
   "source": [
    "dataset.head()"
   ]
  },
  {
   "cell_type": "code",
   "execution_count": 6,
   "metadata": {},
   "outputs": [],
   "source": [
    "sentences = dataset['text'].tolist()\n",
    "labels = dataset['sentiment'].tolist()"
   ]
  },
  {
   "cell_type": "code",
   "execution_count": 7,
   "metadata": {},
   "outputs": [],
   "source": [
    "training_size = int(len(sentences) * 0.8)\n",
    "\n",
    "training_sentences = sentences[0:training_size]\n",
    "testing_sentences = sentences[training_size:]\n",
    "training_labels = labels[0:training_size]\n",
    "testing_labels = labels[training_size:]"
   ]
  },
  {
   "cell_type": "code",
   "execution_count": 8,
   "metadata": {},
   "outputs": [],
   "source": [
    "training_labels_final = np.array(training_labels)\n",
    "testing_labels_final = np.array(testing_labels)"
   ]
  },
  {
   "cell_type": "code",
   "execution_count": 9,
   "metadata": {},
   "outputs": [],
   "source": [
    "vocab_size = 1000\n",
    "embedding_dim = 16\n",
    "max_length = 100\n",
    "trunc_type='post'\n",
    "padding_type='post'\n",
    "oov_tok = \"<OOV>\""
   ]
  },
  {
   "cell_type": "code",
   "execution_count": 10,
   "metadata": {},
   "outputs": [],
   "source": [
    "vocab_size = 500\n",
    "embedding_dim = 16\n",
    "max_length = 50\n",
    "trunc_type='post'\n",
    "padding_type='post'\n",
    "oov_tok = \"<OOV>\"\n",
    "\n",
    "tokenizer = Tokenizer(num_words = vocab_size, oov_token=oov_tok)\n",
    "tokenizer.fit_on_texts(training_sentences)\n",
    "word_index = tokenizer.word_index\n",
    "sequences = tokenizer.texts_to_sequences(training_sentences)\n",
    "padded = pad_sequences(sequences,maxlen=max_length, padding=padding_type, \n",
    "                       truncating=trunc_type)\n",
    "\n",
    "testing_sequences = tokenizer.texts_to_sequences(testing_sentences)\n",
    "testing_padded = pad_sequences(testing_sequences,maxlen=max_length, \n",
    "                               padding=padding_type, truncating=trunc_type)"
   ]
  },
  {
   "cell_type": "code",
   "execution_count": 11,
   "metadata": {},
   "outputs": [],
   "source": [
    "reverse_word_index = dict([(value, key) for (key, value) in word_index.items()])"
   ]
  },
  {
   "cell_type": "code",
   "execution_count": 12,
   "metadata": {},
   "outputs": [
    {
     "name": "stdout",
     "output_type": "stream",
     "text": [
      "good case excellent value ? ? ? ? ? ? ? ? ? ? ? ? ? ? ? ? ? ? ? ? ? ? ? ? ? ? ? ? ? ? ? ? ? ? ? ? ? ? ? ? ? ? ? ? ? ?\n",
      "Good case Excellent value.\n"
     ]
    }
   ],
   "source": [
    "def decode_review(text):\n",
    "    return ' '.join([reverse_word_index.get(i, '?') for i in text])\n",
    "\n",
    "print(decode_review(padded[1]))\n",
    "print(training_sentences[1])"
   ]
  },
  {
   "cell_type": "code",
   "execution_count": 13,
   "metadata": {},
   "outputs": [
    {
     "name": "stdout",
     "output_type": "stream",
     "text": [
      "Model: \"sequential\"\n",
      "_________________________________________________________________\n",
      "Layer (type)                 Output Shape              Param #   \n",
      "=================================================================\n",
      "embedding (Embedding)        (None, 50, 16)            8000      \n",
      "_________________________________________________________________\n",
      "flatten (Flatten)            (None, 800)               0         \n",
      "_________________________________________________________________\n",
      "dense (Dense)                (None, 6)                 4806      \n",
      "_________________________________________________________________\n",
      "dense_1 (Dense)              (None, 1)                 7         \n",
      "=================================================================\n",
      "Total params: 12,813\n",
      "Trainable params: 12,813\n",
      "Non-trainable params: 0\n",
      "_________________________________________________________________\n"
     ]
    }
   ],
   "source": [
    "model = tf.keras.Sequential([\n",
    "    tf.keras.layers.Embedding(vocab_size, embedding_dim, input_length=max_length),\n",
    "    tf.keras.layers.Flatten(),\n",
    "    tf.keras.layers.Dense(6, activation='relu'),\n",
    "    tf.keras.layers.Dense(1, activation='sigmoid')\n",
    "])\n",
    "model.compile(optimizer = 'adam', loss = 'binary_crossentropy', metrics=['accuracy'])\n",
    "model.summary()"
   ]
  },
  {
   "cell_type": "code",
   "execution_count": 16,
   "metadata": {},
   "outputs": [
    {
     "name": "stdout",
     "output_type": "stream",
     "text": [
      "Train on 1593 samples, validate on 399 samples\n",
      "Epoch 1/30\n",
      "1593/1593 [==============================] - 0s 63us/sample - loss: 0.0245 - accuracy: 0.9925 - val_loss: 0.9484 - val_accuracy: 0.7368\n",
      "Epoch 2/30\n",
      "1593/1593 [==============================] - 0s 63us/sample - loss: 0.0228 - accuracy: 0.9931 - val_loss: 0.9932 - val_accuracy: 0.7118\n",
      "Epoch 3/30\n",
      "1593/1593 [==============================] - 0s 65us/sample - loss: 0.0223 - accuracy: 0.9925 - val_loss: 0.9684 - val_accuracy: 0.7318\n",
      "Epoch 4/30\n",
      "1593/1593 [==============================] - 0s 56us/sample - loss: 0.0205 - accuracy: 0.9931 - val_loss: 0.9724 - val_accuracy: 0.7343\n",
      "Epoch 5/30\n",
      "1593/1593 [==============================] - 0s 68us/sample - loss: 0.0198 - accuracy: 0.9937 - val_loss: 0.9762 - val_accuracy: 0.7318\n",
      "Epoch 6/30\n",
      "1593/1593 [==============================] - 0s 66us/sample - loss: 0.0205 - accuracy: 0.9931 - val_loss: 1.0754 - val_accuracy: 0.7043\n",
      "Epoch 7/30\n",
      "1593/1593 [==============================] - 0s 56us/sample - loss: 0.0199 - accuracy: 0.9937 - val_loss: 1.0418 - val_accuracy: 0.7243\n",
      "Epoch 8/30\n",
      "1593/1593 [==============================] - 0s 62us/sample - loss: 0.0174 - accuracy: 0.9944 - val_loss: 1.0287 - val_accuracy: 0.7318\n",
      "Epoch 9/30\n",
      "1593/1593 [==============================] - 0s 63us/sample - loss: 0.0167 - accuracy: 0.9950 - val_loss: 1.0486 - val_accuracy: 0.7343\n",
      "Epoch 10/30\n",
      "1593/1593 [==============================] - 0s 78us/sample - loss: 0.0180 - accuracy: 0.9950 - val_loss: 1.0663 - val_accuracy: 0.7268\n",
      "Epoch 11/30\n",
      "1593/1593 [==============================] - 0s 78us/sample - loss: 0.0158 - accuracy: 0.9950 - val_loss: 1.0878 - val_accuracy: 0.7268\n",
      "Epoch 12/30\n",
      "1593/1593 [==============================] - 0s 80us/sample - loss: 0.0159 - accuracy: 0.9950 - val_loss: 1.1339 - val_accuracy: 0.7143\n",
      "Epoch 13/30\n",
      "1593/1593 [==============================] - 0s 74us/sample - loss: 0.0162 - accuracy: 0.9944 - val_loss: 1.1247 - val_accuracy: 0.7193\n",
      "Epoch 14/30\n",
      "1593/1593 [==============================] - 0s 63us/sample - loss: 0.0140 - accuracy: 0.9937 - val_loss: 1.2096 - val_accuracy: 0.6767\n",
      "Epoch 15/30\n",
      "1593/1593 [==============================] - 0s 80us/sample - loss: 0.0164 - accuracy: 0.9931 - val_loss: 1.1146 - val_accuracy: 0.7243\n",
      "Epoch 16/30\n",
      "1593/1593 [==============================] - 0s 63us/sample - loss: 0.0167 - accuracy: 0.9931 - val_loss: 1.1473 - val_accuracy: 0.7193\n",
      "Epoch 17/30\n",
      "1593/1593 [==============================] - 0s 62us/sample - loss: 0.0132 - accuracy: 0.9962 - val_loss: 1.1659 - val_accuracy: 0.7143\n",
      "Epoch 18/30\n",
      "1593/1593 [==============================] - 0s 58us/sample - loss: 0.0135 - accuracy: 0.9937 - val_loss: 1.1694 - val_accuracy: 0.7218\n",
      "Epoch 19/30\n",
      "1593/1593 [==============================] - 0s 69us/sample - loss: 0.0128 - accuracy: 0.9956 - val_loss: 1.1962 - val_accuracy: 0.7168\n",
      "Epoch 20/30\n",
      "1593/1593 [==============================] - 0s 71us/sample - loss: 0.0122 - accuracy: 0.9962 - val_loss: 1.2628 - val_accuracy: 0.6892\n",
      "Epoch 21/30\n",
      "1593/1593 [==============================] - 0s 61us/sample - loss: 0.0121 - accuracy: 0.9956 - val_loss: 1.2320 - val_accuracy: 0.7118\n",
      "Epoch 22/30\n",
      "1593/1593 [==============================] - 0s 59us/sample - loss: 0.0120 - accuracy: 0.9962 - val_loss: 1.3061 - val_accuracy: 0.6842\n",
      "Epoch 23/30\n",
      "1593/1593 [==============================] - 0s 58us/sample - loss: 0.0143 - accuracy: 0.9918 - val_loss: 1.2368 - val_accuracy: 0.7193\n",
      "Epoch 24/30\n",
      "1593/1593 [==============================] - 0s 61us/sample - loss: 0.0114 - accuracy: 0.9962 - val_loss: 1.2834 - val_accuracy: 0.7043\n",
      "Epoch 25/30\n",
      "1593/1593 [==============================] - 0s 60us/sample - loss: 0.0130 - accuracy: 0.9950 - val_loss: 1.2715 - val_accuracy: 0.7143\n",
      "Epoch 26/30\n",
      "1593/1593 [==============================] - 0s 63us/sample - loss: 0.0128 - accuracy: 0.9950 - val_loss: 1.3196 - val_accuracy: 0.6942\n",
      "Epoch 27/30\n",
      "1593/1593 [==============================] - 0s 58us/sample - loss: 0.0112 - accuracy: 0.9962 - val_loss: 1.3048 - val_accuracy: 0.7093\n",
      "Epoch 28/30\n",
      "1593/1593 [==============================] - 0s 70us/sample - loss: 0.0104 - accuracy: 0.9969 - val_loss: 1.3989 - val_accuracy: 0.6767\n",
      "Epoch 29/30\n",
      "1593/1593 [==============================] - 0s 57us/sample - loss: 0.0112 - accuracy: 0.9962 - val_loss: 1.3326 - val_accuracy: 0.7043\n",
      "Epoch 30/30\n",
      "1593/1593 [==============================] - 0s 62us/sample - loss: 0.0100 - accuracy: 0.9962 - val_loss: 1.3167 - val_accuracy: 0.7118\n"
     ]
    }
   ],
   "source": [
    "num_epochs = 30\n",
    "history = model.fit(padded, training_labels_final, epochs=num_epochs, validation_data=(testing_padded, testing_labels_final))"
   ]
  },
  {
   "cell_type": "code",
   "execution_count": 17,
   "metadata": {},
   "outputs": [
    {
     "data": {
      "image/png": "[encoded data removed]",
      "text/plain": [
       "<Figure size 432x288 with 1 Axes>"
      ]
     },
     "metadata": {
      "needs_background": "light"
     },
     "output_type": "display_data"
    },
    {
     "data": {
      "image/png": "[encoded data removed]",
      "text/plain": [
       "<Figure size 432x288 with 1 Axes>"
      ]
     },
     "metadata": {
      "needs_background": "light"
     },
     "output_type": "display_data"
    }
   ],
   "source": [
    "import matplotlib.pyplot as plt\n",
    "\n",
    "\n",
    "def plot_graphs(history, string):\n",
    "  plt.plot(history.history[string])\n",
    "  plt.plot(history.history['val_'+string])\n",
    "  plt.xlabel(\"Epochs\")\n",
    "  plt.ylabel(string)\n",
    "  plt.legend([string, 'val_'+string])\n",
    "  plt.show()\n",
    "  \n",
    "plot_graphs(history, \"accuracy\")\n",
    "plot_graphs(history, \"loss\")"
   ]
  },
  {
   "cell_type": "code",
   "execution_count": null,
   "metadata": {},
   "outputs": [],
   "source": []
  }
 ],
 "metadata": {
  "kernelspec": {
   "display_name": "Python 3",
   "language": "python",
   "name": "python3"
  },
  "language_info": {
   "codemirror_mode": {
    "name": "ipython",
    "version": 3
   },
   "file_extension": ".py",
   "mimetype": "text/x-python",
   "name": "python",
   "nbconvert_exporter": "python",
   "pygments_lexer": "ipython3",
   "version": "3.7.7"
  }
 },
 "nbformat": 4,
 "nbformat_minor": 4
}
