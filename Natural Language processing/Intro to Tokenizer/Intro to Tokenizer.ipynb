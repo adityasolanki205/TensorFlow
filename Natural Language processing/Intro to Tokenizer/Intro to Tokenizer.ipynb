{
 "cells": [
  {
   "cell_type": "code",
   "execution_count": 19,
   "metadata": {},
   "outputs": [],
   "source": [
    "from tensorflow.keras.preprocessing.text import Tokenizer"
   ]
  },
  {
   "cell_type": "code",
   "execution_count": 20,
   "metadata": {},
   "outputs": [],
   "source": [
    "sentences = [\n",
    "    'My favorite food is ice cream',\n",
    "    'do you like ice cream too?',\n",
    "    'My dog likes ice cream!',\n",
    "    \"your favorite flavor of icecream is chocolate\",\n",
    "    \"chocolate isn't good for dogs\",\n",
    "    \"your dog, your cat, and your parrot prefer broccoli\"\n",
    "]"
   ]
  },
  {
   "cell_type": "code",
   "execution_count": 21,
   "metadata": {},
   "outputs": [],
   "source": [
    "tokenizer = Tokenizer(num_words =100, oov_token=\"<OOV>\")\n",
    "tokenizer.fit_on_texts(sentences)"
   ]
  },
  {
   "cell_type": "code",
   "execution_count": 22,
   "metadata": {},
   "outputs": [],
   "source": [
    "word_index = tokenizer.word_index"
   ]
  },
  {
   "cell_type": "code",
   "execution_count": 23,
   "metadata": {},
   "outputs": [
    {
     "data": {
      "text/plain": [
       "{'<OOV>': 1,\n",
       " 'your': 2,\n",
       " 'ice': 3,\n",
       " 'cream': 4,\n",
       " 'my': 5,\n",
       " 'favorite': 6,\n",
       " 'is': 7,\n",
       " 'dog': 8,\n",
       " 'chocolate': 9,\n",
       " 'food': 10,\n",
       " 'do': 11,\n",
       " 'you': 12,\n",
       " 'like': 13,\n",
       " 'too': 14,\n",
       " 'likes': 15,\n",
       " 'flavor': 16,\n",
       " 'of': 17,\n",
       " 'icecream': 18,\n",
       " \"isn't\": 19,\n",
       " 'good': 20,\n",
       " 'for': 21,\n",
       " 'dogs': 22,\n",
       " 'cat': 23,\n",
       " 'and': 24,\n",
       " 'parrot': 25,\n",
       " 'prefer': 26,\n",
       " 'broccoli': 27}"
      ]
     },
     "execution_count": 23,
     "metadata": {},
     "output_type": "execute_result"
    }
   ],
   "source": [
    "word_index"
   ]
  },
  {
   "cell_type": "code",
   "execution_count": 24,
   "metadata": {},
   "outputs": [
    {
     "data": {
      "text/plain": [
       "[[5, 6, 10, 7, 3, 4],\n",
       " [11, 12, 13, 3, 4, 14],\n",
       " [5, 8, 15, 3, 4],\n",
       " [2, 6, 16, 17, 18, 7, 9],\n",
       " [9, 19, 20, 21, 22],\n",
       " [2, 8, 2, 23, 24, 2, 25, 26, 27]]"
      ]
     },
     "execution_count": 24,
     "metadata": {},
     "output_type": "execute_result"
    }
   ],
   "source": [
    "sequences = tokenizer.texts_to_sequences(sentences)\n",
    "sequences"
   ]
  },
  {
   "cell_type": "code",
   "execution_count": 25,
   "metadata": {},
   "outputs": [
    {
     "name": "stdout",
     "output_type": "stream",
     "text": [
      "[[1, 13, 1, 9], [5, 22, 24, 5, 1, 13, 1, 1, 5, 1, 1, 1, 24, 5, 1, 13, 3, 4, 1, 1]]\n"
     ]
    }
   ],
   "source": [
    "sentences2 = [\"I like hot chocolate\", \"My dogs and my hedgehog like kibble but my squirrel prefers grapes and my chickens like ice cream, preferably vanilla\"]\n",
    "\n",
    "sequences2 = tokenizer.texts_to_sequences(sentences2)\n",
    "print(sequences2)"
   ]
  },
  {
   "cell_type": "code",
   "execution_count": null,
   "metadata": {},
   "outputs": [],
   "source": []
  }
 ],
 "metadata": {
  "kernelspec": {
   "display_name": "Python 3",
   "language": "python",
   "name": "python3"
  },
  "language_info": {
   "codemirror_mode": {
    "name": "ipython",
    "version": 3
   },
   "file_extension": ".py",
   "mimetype": "text/x-python",
   "name": "python",
   "nbconvert_exporter": "python",
   "pygments_lexer": "ipython3",
   "version": "3.7.7"
  }
 },
 "nbformat": 4,
 "nbformat_minor": 4
}
