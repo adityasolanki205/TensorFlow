{
 "cells": [
  {
   "cell_type": "code",
   "execution_count": 1,
   "metadata": {},
   "outputs": [],
   "source": [
    "import tensorflow as tf\n",
    "from tensorflow.keras.preprocessing.sequence import pad_sequences"
   ]
  },
  {
   "cell_type": "code",
   "execution_count": 2,
   "metadata": {},
   "outputs": [],
   "source": [
    "import numpy as np\n",
    "import pandas as pd"
   ]
  },
  {
   "cell_type": "code",
   "execution_count": 4,
   "metadata": {},
   "outputs": [],
   "source": [
    "dataset = pd.read_csv('combined_data.csv')\n",
    "\n",
    "sentences = dataset['text'].tolist()\n",
    "labels = dataset['sentiment'].tolist()"
   ]
  },
  {
   "cell_type": "code",
   "execution_count": 5,
   "metadata": {},
   "outputs": [
    {
     "name": "stdout",
     "output_type": "stream",
     "text": [
      "Vocab size is  999\n"
     ]
    }
   ],
   "source": [
    "import tensorflow_datasets as tfds\n",
    "\n",
    "vocab_size = 1000\n",
    "tokenizer = tfds.features.text.SubwordTextEncoder.build_from_corpus(sentences, vocab_size, max_subword_length=5)\n",
    "print(\"Vocab size is \", tokenizer.vocab_size)"
   ]
  },
  {
   "cell_type": "code",
   "execution_count": 7,
   "metadata": {},
   "outputs": [],
   "source": [
    "for i , sentence in enumerate(sentences):\n",
    "    sentences[i] = tokenizer.encode(sentence)"
   ]
  },
  {
   "cell_type": "code",
   "execution_count": 8,
   "metadata": {},
   "outputs": [
    {
     "name": "stdout",
     "output_type": "stream",
     "text": [
      "[4, 31, 6, 849, 162, 450, 12, 1, 600, 438, 775, 6, 175, 14, 6, 55, 213, 159, 474, 775, 6, 175, 614, 380, 295, 148, 72, 789]\n"
     ]
    }
   ],
   "source": [
    "print(sentences[5])"
   ]
  },
  {
   "cell_type": "code",
   "execution_count": 18,
   "metadata": {},
   "outputs": [],
   "source": [
    "max_len = 50 \n",
    "padding_type = 'post'\n",
    "trunc_type = 'post'\n",
    "\n",
    "sequences_padded = pad_sequences(sentences, maxlen=max_len, \n",
    "                                 padding=padding_type, truncating=trunc_type)"
   ]
  },
  {
   "cell_type": "code",
   "execution_count": 19,
   "metadata": {},
   "outputs": [],
   "source": [
    "training_size = int(len(sentences) * 0.8)\n",
    "\n",
    "training_sequences = sequences_padded[0:training_size]\n",
    "testing_sequences = sequences_padded[training_size:]\n",
    "training_labels = labels[0:training_size]\n",
    "testing_labels = labels[training_size:]\n",
    "\n",
    "# Make labels into numpy arrays for use with the network later\n",
    "training_labels_final = np.array(training_labels)\n",
    "testing_labels_final = np.array(testing_labels)"
   ]
  },
  {
   "cell_type": "code",
   "execution_count": 20,
   "metadata": {},
   "outputs": [],
   "source": [
    "embedding_dim = 16\n",
    "\n",
    "model = tf.keras.Sequential([\n",
    "    tf.keras.layers.Embedding(vocab_size, embedding_dim, input_length=max_len),\n",
    "    tf.keras.layers.GlobalAveragePooling1D(), \n",
    "    tf.keras.layers.Dense(6, activation = 'relu'),\n",
    "    tf.keras.layers.Dense(1, activation = 'sigmoid')\n",
    "]\n",
    ")"
   ]
  },
  {
   "cell_type": "code",
   "execution_count": 21,
   "metadata": {},
   "outputs": [
    {
     "name": "stdout",
     "output_type": "stream",
     "text": [
      "Model: \"sequential_1\"\n",
      "_________________________________________________________________\n",
      "Layer (type)                 Output Shape              Param #   \n",
      "=================================================================\n",
      "embedding_1 (Embedding)      (None, 50, 16)            16000     \n",
      "_________________________________________________________________\n",
      "global_average_pooling1d_1 ( (None, 16)                0         \n",
      "_________________________________________________________________\n",
      "dense_2 (Dense)              (None, 6)                 102       \n",
      "_________________________________________________________________\n",
      "dense_3 (Dense)              (None, 1)                 7         \n",
      "=================================================================\n",
      "Total params: 16,109\n",
      "Trainable params: 16,109\n",
      "Non-trainable params: 0\n",
      "_________________________________________________________________\n"
     ]
    }
   ],
   "source": [
    "model.summary()"
   ]
  },
  {
   "cell_type": "code",
   "execution_count": 22,
   "metadata": {},
   "outputs": [
    {
     "name": "stdout",
     "output_type": "stream",
     "text": [
      "Train on 1593 samples, validate on 399 samples\n",
      "Epoch 1/30\n",
      "1593/1593 [==============================] - 1s 420us/sample - loss: 0.6926 - accuracy: 0.5248 - val_loss: 0.6956 - val_accuracy: 0.4135\n",
      "Epoch 2/30\n",
      "1593/1593 [==============================] - 0s 62us/sample - loss: 0.6905 - accuracy: 0.5424 - val_loss: 0.6939 - val_accuracy: 0.4637\n",
      "Epoch 3/30\n",
      "1593/1593 [==============================] - 0s 56us/sample - loss: 0.6864 - accuracy: 0.5876 - val_loss: 0.6920 - val_accuracy: 0.4937\n",
      "Epoch 4/30\n",
      "1593/1593 [==============================] - 0s 67us/sample - loss: 0.6793 - accuracy: 0.6359 - val_loss: 0.6847 - val_accuracy: 0.5564\n",
      "Epoch 5/30\n",
      "1593/1593 [==============================] - 0s 56us/sample - loss: 0.6683 - accuracy: 0.6742 - val_loss: 0.6735 - val_accuracy: 0.6391\n",
      "Epoch 6/30\n",
      "1593/1593 [==============================] - 0s 68us/sample - loss: 0.6525 - accuracy: 0.7288 - val_loss: 0.6616 - val_accuracy: 0.6566\n",
      "Epoch 7/30\n",
      "1593/1593 [==============================] - 0s 60us/sample - loss: 0.6328 - accuracy: 0.7665 - val_loss: 0.6437 - val_accuracy: 0.7168\n",
      "Epoch 8/30\n",
      "1593/1593 [==============================] - 0s 68us/sample - loss: 0.6099 - accuracy: 0.7916 - val_loss: 0.6356 - val_accuracy: 0.6792\n",
      "Epoch 9/30\n",
      "1593/1593 [==============================] - 0s 68us/sample - loss: 0.5826 - accuracy: 0.8016 - val_loss: 0.6067 - val_accuracy: 0.7619\n",
      "Epoch 10/30\n",
      "1593/1593 [==============================] - 0s 69us/sample - loss: 0.5541 - accuracy: 0.8142 - val_loss: 0.5916 - val_accuracy: 0.7619\n",
      "Epoch 11/30\n",
      "1593/1593 [==============================] - 0s 55us/sample - loss: 0.5246 - accuracy: 0.8368 - val_loss: 0.5776 - val_accuracy: 0.7619\n",
      "Epoch 12/30\n",
      "1593/1593 [==============================] - 0s 63us/sample - loss: 0.4961 - accuracy: 0.8399 - val_loss: 0.5553 - val_accuracy: 0.7769\n",
      "Epoch 13/30\n",
      "1593/1593 [==============================] - 0s 71us/sample - loss: 0.4671 - accuracy: 0.8475 - val_loss: 0.5599 - val_accuracy: 0.7293\n",
      "Epoch 14/30\n",
      "1593/1593 [==============================] - 0s 79us/sample - loss: 0.4426 - accuracy: 0.8550 - val_loss: 0.5358 - val_accuracy: 0.7619\n",
      "Epoch 15/30\n",
      "1593/1593 [==============================] - 0s 64us/sample - loss: 0.4171 - accuracy: 0.8632 - val_loss: 0.5333 - val_accuracy: 0.7494\n",
      "Epoch 16/30\n",
      "1593/1593 [==============================] - 0s 63us/sample - loss: 0.3956 - accuracy: 0.8682 - val_loss: 0.5227 - val_accuracy: 0.7544\n",
      "Epoch 17/30\n",
      "1593/1593 [==============================] - 0s 80us/sample - loss: 0.3753 - accuracy: 0.8669 - val_loss: 0.5187 - val_accuracy: 0.7569\n",
      "Epoch 18/30\n",
      "1593/1593 [==============================] - 0s 69us/sample - loss: 0.3564 - accuracy: 0.8807 - val_loss: 0.5115 - val_accuracy: 0.7569\n",
      "Epoch 19/30\n",
      "1593/1593 [==============================] - 0s 64us/sample - loss: 0.3393 - accuracy: 0.8858 - val_loss: 0.5104 - val_accuracy: 0.7569\n",
      "Epoch 20/30\n",
      "1593/1593 [==============================] - 0s 71us/sample - loss: 0.3252 - accuracy: 0.8895 - val_loss: 0.5131 - val_accuracy: 0.7594\n",
      "Epoch 21/30\n",
      "1593/1593 [==============================] - 0s 60us/sample - loss: 0.3110 - accuracy: 0.8939 - val_loss: 0.4969 - val_accuracy: 0.7569\n",
      "Epoch 22/30\n",
      "1593/1593 [==============================] - 0s 59us/sample - loss: 0.2986 - accuracy: 0.8977 - val_loss: 0.5126 - val_accuracy: 0.7519\n",
      "Epoch 23/30\n",
      "1593/1593 [==============================] - 0s 67us/sample - loss: 0.2849 - accuracy: 0.9027 - val_loss: 0.5370 - val_accuracy: 0.7393\n",
      "Epoch 24/30\n",
      "1593/1593 [==============================] - 0s 81us/sample - loss: 0.2784 - accuracy: 0.9033 - val_loss: 0.5111 - val_accuracy: 0.7544\n",
      "Epoch 25/30\n",
      "1593/1593 [==============================] - 0s 65us/sample - loss: 0.2653 - accuracy: 0.9071 - val_loss: 0.5059 - val_accuracy: 0.7544\n",
      "Epoch 26/30\n",
      "1593/1593 [==============================] - 0s 57us/sample - loss: 0.2564 - accuracy: 0.9096 - val_loss: 0.5083 - val_accuracy: 0.7519\n",
      "Epoch 27/30\n",
      "1593/1593 [==============================] - 0s 56us/sample - loss: 0.2482 - accuracy: 0.9127 - val_loss: 0.5317 - val_accuracy: 0.7419\n",
      "Epoch 28/30\n",
      "1593/1593 [==============================] - 0s 63us/sample - loss: 0.2403 - accuracy: 0.9146 - val_loss: 0.5183 - val_accuracy: 0.7469\n",
      "Epoch 29/30\n",
      "1593/1593 [==============================] - 0s 60us/sample - loss: 0.2321 - accuracy: 0.9228 - val_loss: 0.5152 - val_accuracy: 0.7519\n",
      "Epoch 30/30\n",
      "1593/1593 [==============================] - 0s 61us/sample - loss: 0.2243 - accuracy: 0.9215 - val_loss: 0.5386 - val_accuracy: 0.7494\n"
     ]
    }
   ],
   "source": [
    "num_epochs = 30\n",
    "model.compile(optimizer = 'adam',\n",
    "              loss = 'binary_crossentropy',\n",
    "              metrics = ['accuracy']\n",
    "             )\n",
    "history = model.fit(training_sequences, \n",
    "                    training_labels_final, \n",
    "                    epochs = num_epochs,\n",
    "                    validation_data= (testing_sequences, testing_labels_final)\n",
    "                   )"
   ]
  },
  {
   "cell_type": "code",
   "execution_count": 23,
   "metadata": {},
   "outputs": [
    {
     "data": {
      "image/png": "[encoded data removed]",
      "text/plain": [
       "<Figure size 432x288 with 1 Axes>"
      ]
     },
     "metadata": {
      "needs_background": "light"
     },
     "output_type": "display_data"
    },
    {
     "data": {
      "image/png": "[encoded data removed]",
      "text/plain": [
       "<Figure size 432x288 with 1 Axes>"
      ]
     },
     "metadata": {
      "needs_background": "light"
     },
     "output_type": "display_data"
    }
   ],
   "source": [
    "import matplotlib.pyplot as plt\n",
    "\n",
    "\n",
    "def plot_graphs(history, string):\n",
    "    plt.plot(history.history[string])\n",
    "    plt.plot(history.history['val_'+string])\n",
    "    plt.xlabel(\"Epochs\")\n",
    "    plt.ylabel(string)\n",
    "    plt.legend([string, 'val_'+string])\n",
    "    plt.show()\n",
    "\n",
    "plot_graphs(history, \"accuracy\")\n",
    "plot_graphs(history, \"loss\")"
   ]
  },
  {
   "cell_type": "code",
   "execution_count": 27,
   "metadata": {},
   "outputs": [],
   "source": [
    "def predict_review(model, new_sentences, maxlen=max_len, show_padded_sequence=True ):\n",
    "    new_sequences = []\n",
    "\n",
    "    for i, frvw in enumerate(new_sentences):\n",
    "        new_sequences.append(tokenizer.encode(frvw))\n",
    "\n",
    "    trunc_type='post' \n",
    "    padding_type='post'\n",
    "\n",
    "    new_reviews_padded = pad_sequences(new_sequences, maxlen=max_len, \n",
    "                                 padding=padding_type, truncating=trunc_type)             \n",
    "\n",
    "    classes = model.predict(new_reviews_padded)\n",
    "\n",
    "    for x in range(len(new_sentences)):\n",
    "\n",
    "        if (show_padded_sequence):\n",
    "            print(new_reviews_padded[x])\n",
    "        print(new_sentences[x])\n",
    "        print(classes[x])\n",
    "        print(\"\\n\")"
   ]
  },
  {
   "cell_type": "code",
   "execution_count": 28,
   "metadata": {},
   "outputs": [
    {
     "name": "stdout",
     "output_type": "stream",
     "text": [
      "[  4 281  16  25   0   0   0   0   0   0   0   0   0   0   0   0   0   0\n",
      "   0   0   0   0   0   0   0   0   0   0   0   0   0   0   0   0   0   0\n",
      "   0   0   0   0   0   0   0   0   0   0   0   0   0   0]\n",
      "I love this phone\n",
      "[0.86505383]\n",
      "\n",
      "\n",
      "[812 227 864 100 775   9 525 843   0   0   0   0   0   0   0   0   0   0\n",
      "   0   0   0   0   0   0   0   0   0   0   0   0   0   0   0   0   0   0\n",
      "   0   0   0   0   0   0   0   0   0   0   0   0   0   0]\n",
      "Everything was cold\n",
      "[0.21167581]\n",
      "\n",
      "\n",
      "[812 227 864 100 775   9 109   8 333 731  24  61   4 171  59  77   0   0\n",
      "   0   0   0   0   0   0   0   0   0   0   0   0   0   0   0   0   0   0\n",
      "   0   0   0   0   0   0   0   0   0   0   0   0   0   0]\n",
      "Everything was hot exactly as I wanted\n",
      "[0.3099107]\n",
      "\n",
      "\n",
      "[812 227 864 100 775   9 157 359 853   0   0   0   0   0   0   0   0   0\n",
      "   0   0   0   0   0   0   0   0   0   0   0   0   0   0   0   0   0   0\n",
      "   0   0   0   0   0   0   0   0   0   0   0   0   0   0]\n",
      "Everything was green\n",
      "[0.15588082]\n",
      "\n",
      "\n",
      "[  1 109 228 540 237 635 241 423 340  89 298   0   0   0   0   0   0   0\n",
      "   0   0   0   0   0   0   0   0   0   0   0   0   0   0   0   0   0   0\n",
      "   0   0   0   0   0   0   0   0   0   0   0   0   0   0]\n",
      "the host seated us immediately\n",
      "[0.4205483]\n",
      "\n",
      "\n",
      "[154 242  47 635 341  12 569 547 147 319 775 125  85   0   0   0   0   0\n",
      "   0   0   0   0   0   0   0   0   0   0   0   0   0   0   0   0   0   0\n",
      "   0   0   0   0   0   0   0   0   0   0   0   0   0   0]\n",
      "they gave us free chocolate cake\n",
      "[0.70615107]\n",
      "\n",
      "\n",
      "[158 190 853 782   8 607 775 210 232 146 775 470  67 305 101  15   1 328\n",
      " 296  26  19   1 661 641 195   0   0   0   0   0   0   0   0   0   0   0\n",
      "   0   0   0   0   0   0   0   0   0   0   0   0   0   0]\n",
      "we couldn't hear each other talk because of the shouting in the kitchen\n",
      "[0.04033137]\n",
      "\n",
      "\n"
     ]
    }
   ],
   "source": [
    "fake_reviews = [\"I love this phone\", \n",
    "                \"Everything was cold\",\n",
    "                \"Everything was hot exactly as I wanted\", \n",
    "                \"Everything was green\", \n",
    "                \"the host seated us immediately\",\n",
    "                \"they gave us free chocolate cake\", \n",
    "                \"we couldn't hear each other talk because of the shouting in the kitchen\"\n",
    "              ]\n",
    "\n",
    "predict_review(model, fake_reviews)"
   ]
  },
  {
   "cell_type": "code",
   "execution_count": 29,
   "metadata": {},
   "outputs": [],
   "source": [
    "def fit_model_now (model, sentences) :\n",
    "    model.compile(loss='binary_crossentropy',optimizer='adam',metrics=['accuracy'])\n",
    "    model.summary()\n",
    "    history = model.fit(training_sequences, training_labels_final, epochs=num_epochs, \n",
    "                      validation_data=(testing_sequences, testing_labels_final))\n",
    "    return history\n",
    "\n",
    "def plot_results (history):\n",
    "    plot_graphs(history, \"accuracy\")\n",
    "    plot_graphs(history, \"loss\")\n",
    "\n",
    "def fit_model_and_show_results (model, sentences):\n",
    "    history = fit_model_now(model, sentences)\n",
    "    plot_results(history)\n",
    "    predict_review(model, sentences)"
   ]
  },
  {
   "cell_type": "code",
   "execution_count": 31,
   "metadata": {},
   "outputs": [
    {
     "name": "stdout",
     "output_type": "stream",
     "text": [
      "Model: \"sequential_2\"\n",
      "_________________________________________________________________\n",
      "Layer (type)                 Output Shape              Param #   \n",
      "=================================================================\n",
      "embedding_2 (Embedding)      (None, 50, 16)            16000     \n",
      "_________________________________________________________________\n",
      "bidirectional (Bidirectional (None, 32)                4224      \n",
      "_________________________________________________________________\n",
      "dense_4 (Dense)              (None, 6)                 198       \n",
      "_________________________________________________________________\n",
      "dense_5 (Dense)              (None, 1)                 7         \n",
      "=================================================================\n",
      "Total params: 20,429\n",
      "Trainable params: 20,429\n",
      "Non-trainable params: 0\n",
      "_________________________________________________________________\n",
      "Train on 1593 samples, validate on 399 samples\n",
      "Epoch 1/30\n",
      "1593/1593 [==============================] - 5s 3ms/sample - loss: 0.6932 - accuracy: 0.4846 - val_loss: 0.6931 - val_accuracy: 0.4662\n",
      "Epoch 2/30\n",
      "1593/1593 [==============================] - 1s 607us/sample - loss: 0.6916 - accuracy: 0.6240 - val_loss: 0.6882 - val_accuracy: 0.6892\n",
      "Epoch 3/30\n",
      "1593/1593 [==============================] - 1s 700us/sample - loss: 0.6541 - accuracy: 0.6698 - val_loss: 0.6204 - val_accuracy: 0.7569oss: 0.6660 - \n",
      "Epoch 4/30\n",
      "1593/1593 [==============================] - 1s 607us/sample - loss: 0.5544 - accuracy: 0.8004 - val_loss: 0.5785 - val_accuracy: 0.7293\n",
      "Epoch 5/30\n",
      "1593/1593 [==============================] - 1s 732us/sample - loss: 0.3887 - accuracy: 0.8682 - val_loss: 0.5529 - val_accuracy: 0.7168\n",
      "Epoch 6/30\n",
      "1593/1593 [==============================] - 1s 812us/sample - loss: 0.2805 - accuracy: 0.9014 - val_loss: 0.6239 - val_accuracy: 0.7118\n",
      "Epoch 7/30\n",
      "1593/1593 [==============================] - 1s 595us/sample - loss: 0.2212 - accuracy: 0.9240 - val_loss: 0.6272 - val_accuracy: 0.7218\n",
      "Epoch 8/30\n",
      "1593/1593 [==============================] - 1s 584us/sample - loss: 0.1667 - accuracy: 0.9504 - val_loss: 0.6962 - val_accuracy: 0.7393\n",
      "Epoch 9/30\n",
      "1593/1593 [==============================] - 1s 761us/sample - loss: 0.1222 - accuracy: 0.9636 - val_loss: 0.7922 - val_accuracy: 0.7393\n",
      "Epoch 10/30\n",
      "1593/1593 [==============================] - 1s 693us/sample - loss: 0.1000 - accuracy: 0.9730 - val_loss: 0.8461 - val_accuracy: 0.7669\n",
      "Epoch 11/30\n",
      "1593/1593 [==============================] - 1s 580us/sample - loss: 0.0882 - accuracy: 0.9774 - val_loss: 1.0189 - val_accuracy: 0.7419\n",
      "Epoch 12/30\n",
      "1593/1593 [==============================] - 1s 550us/sample - loss: 0.0706 - accuracy: 0.9818 - val_loss: 1.0321 - val_accuracy: 0.7293\n",
      "Epoch 13/30\n",
      "1593/1593 [==============================] - 1s 903us/sample - loss: 0.0537 - accuracy: 0.9900 - val_loss: 1.1055 - val_accuracy: 0.7368\n",
      "Epoch 14/30\n",
      "1593/1593 [==============================] - 1s 718us/sample - loss: 0.0431 - accuracy: 0.9931 - val_loss: 1.1592 - val_accuracy: 0.7519\n",
      "Epoch 15/30\n",
      "1593/1593 [==============================] - 1s 714us/sample - loss: 0.0382 - accuracy: 0.9937 - val_loss: 1.2177 - val_accuracy: 0.7594\n",
      "Epoch 16/30\n",
      "1593/1593 [==============================] - 1s 729us/sample - loss: 0.0359 - accuracy: 0.9944 - val_loss: 1.2529 - val_accuracy: 0.7469\n",
      "Epoch 17/30\n",
      "1593/1593 [==============================] - 1s 656us/sample - loss: 0.0347 - accuracy: 0.9944 - val_loss: 1.3005 - val_accuracy: 0.7419\n",
      "Epoch 18/30\n",
      "1593/1593 [==============================] - 1s 594us/sample - loss: 0.0289 - accuracy: 0.9956 - val_loss: 1.3926 - val_accuracy: 0.7494\n",
      "Epoch 19/30\n",
      "1593/1593 [==============================] - 1s 567us/sample - loss: 0.0463 - accuracy: 0.9881 - val_loss: 1.2340 - val_accuracy: 0.7268\n",
      "Epoch 20/30\n",
      "1593/1593 [==============================] - 1s 565us/sample - loss: 0.0635 - accuracy: 0.9837 - val_loss: 1.2727 - val_accuracy: 0.7343\n",
      "Epoch 21/30\n",
      "1593/1593 [==============================] - 1s 614us/sample - loss: 0.0664 - accuracy: 0.9824 - val_loss: 1.2159 - val_accuracy: 0.7268\n",
      "Epoch 22/30\n",
      "1593/1593 [==============================] - 1s 629us/sample - loss: 0.0641 - accuracy: 0.9831 - val_loss: 1.2389 - val_accuracy: 0.7419\n",
      "Epoch 23/30\n",
      "1593/1593 [==============================] - 1s 619us/sample - loss: 0.0339 - accuracy: 0.9944 - val_loss: 1.3096 - val_accuracy: 0.7444\n",
      "Epoch 24/30\n",
      "1593/1593 [==============================] - 1s 605us/sample - loss: 0.0213 - accuracy: 0.9975 - val_loss: 1.3699 - val_accuracy: 0.7444\n",
      "Epoch 25/30\n",
      "1593/1593 [==============================] - 1s 680us/sample - loss: 0.0185 - accuracy: 0.9975 - val_loss: 1.3845 - val_accuracy: 0.7444\n",
      "Epoch 26/30\n",
      "1593/1593 [==============================] - 1s 596us/sample - loss: 0.0153 - accuracy: 0.9981 - val_loss: 1.4352 - val_accuracy: 0.7444\n",
      "Epoch 27/30\n",
      "1593/1593 [==============================] - 1s 680us/sample - loss: 0.0116 - accuracy: 0.9987 - val_loss: 1.4898 - val_accuracy: 0.7444\n",
      "Epoch 28/30\n",
      "1593/1593 [==============================] - 1s 689us/sample - loss: 0.0109 - accuracy: 0.9987 - val_loss: 1.5266 - val_accuracy: 0.7444\n",
      "Epoch 29/30\n",
      "1593/1593 [==============================] - 1s 689us/sample - loss: 0.0104 - accuracy: 0.9987 - val_loss: 1.5589 - val_accuracy: 0.7469\n",
      "Epoch 30/30\n",
      "1593/1593 [==============================] - 1s 722us/sample - loss: 0.0101 - accuracy: 0.9987 - val_loss: 1.5855 - val_accuracy: 0.7494\n"
     ]
    },
    {
     "data": {
      "image/png": "[encoded data removed]",
      "text/plain": [
       "<Figure size 432x288 with 1 Axes>"
      ]
     },
     "metadata": {
      "needs_background": "light"
     },
     "output_type": "display_data"
    },
    {
     "data": {
      "image/png": "[encoded data removed]",
      "text/plain": [
       "<Figure size 432x288 with 1 Axes>"
      ]
     },
     "metadata": {
      "needs_background": "light"
     },
     "output_type": "display_data"
    },
    {
     "name": "stdout",
     "output_type": "stream",
     "text": [
      "[  4 281  16  25   0   0   0   0   0   0   0   0   0   0   0   0   0   0\n",
      "   0   0   0   0   0   0   0   0   0   0   0   0   0   0   0   0   0   0\n",
      "   0   0   0   0   0   0   0   0   0   0   0   0   0   0]\n",
      "I love this phone\n",
      "[0.9954531]\n",
      "\n",
      "\n",
      "[812 227 864 100 775   9 525 843   0   0   0   0   0   0   0   0   0   0\n",
      "   0   0   0   0   0   0   0   0   0   0   0   0   0   0   0   0   0   0\n",
      "   0   0   0   0   0   0   0   0   0   0   0   0   0   0]\n",
      "Everything was cold\n",
      "[4.224979e-05]\n",
      "\n",
      "\n",
      "[812 227 864 100 775   9 109   8 333 731  24  61   4 171  59  77   0   0\n",
      "   0   0   0   0   0   0   0   0   0   0   0   0   0   0   0   0   0   0\n",
      "   0   0   0   0   0   0   0   0   0   0   0   0   0   0]\n",
      "Everything was hot exactly as I wanted\n",
      "[0.9937137]\n",
      "\n",
      "\n",
      "[812 227 864 100 775   9 157 359 853   0   0   0   0   0   0   0   0   0\n",
      "   0   0   0   0   0   0   0   0   0   0   0   0   0   0   0   0   0   0\n",
      "   0   0   0   0   0   0   0   0   0   0   0   0   0   0]\n",
      "Everything was green\n",
      "[0.00891936]\n",
      "\n",
      "\n",
      "[  1 109 228 540 237 635 241 423 340  89 298   0   0   0   0   0   0   0\n",
      "   0   0   0   0   0   0   0   0   0   0   0   0   0   0   0   0   0   0\n",
      "   0   0   0   0   0   0   0   0   0   0   0   0   0   0]\n",
      "the host seated us immediately\n",
      "[0.99506015]\n",
      "\n",
      "\n",
      "[154 242  47 635 341  12 569 547 147 319 775 125  85   0   0   0   0   0\n",
      "   0   0   0   0   0   0   0   0   0   0   0   0   0   0   0   0   0   0\n",
      "   0   0   0   0   0   0   0   0   0   0   0   0   0   0]\n",
      "they gave us free chocolate cake\n",
      "[0.44906592]\n",
      "\n",
      "\n",
      "[158 190 853 782   8 607 775 210 232 146 775 470  67 305 101  15   1 328\n",
      " 296  26  19   1 661 641 195   0   0   0   0   0   0   0   0   0   0   0\n",
      "   0   0   0   0   0   0   0   0   0   0   0   0   0   0]\n",
      "we couldn't hear each other talk because of the shouting in the kitchen\n",
      "[1.2907894e-07]\n",
      "\n",
      "\n"
     ]
    }
   ],
   "source": [
    "model_bidi_lstm = tf.keras.Sequential([\n",
    "    tf.keras.layers.Embedding(vocab_size, embedding_dim, input_length=max_len),\n",
    "    tf.keras.layers.Bidirectional(tf.keras.layers.LSTM(embedding_dim)), \n",
    "    tf.keras.layers.Dense(6, activation='relu'), \n",
    "    tf.keras.layers.Dense(1, activation='sigmoid')\n",
    "])\n",
    "\n",
    "# Compile and train the model and then show the predictions for our extra sentences\n",
    "fit_model_and_show_results(model_bidi_lstm, fake_reviews)\n"
   ]
  },
  {
   "cell_type": "code",
   "execution_count": 33,
   "metadata": {},
   "outputs": [
    {
     "name": "stdout",
     "output_type": "stream",
     "text": [
      "Model: \"sequential_3\"\n",
      "_________________________________________________________________\n",
      "Layer (type)                 Output Shape              Param #   \n",
      "=================================================================\n",
      "embedding_3 (Embedding)      (None, 50, 16)            16000     \n",
      "_________________________________________________________________\n",
      "bidirectional_1 (Bidirection (None, 50, 32)            4224      \n",
      "_________________________________________________________________\n",
      "bidirectional_2 (Bidirection (None, 32)                6272      \n",
      "_________________________________________________________________\n",
      "dense_6 (Dense)              (None, 6)                 198       \n",
      "_________________________________________________________________\n",
      "dense_7 (Dense)              (None, 1)                 7         \n",
      "=================================================================\n",
      "Total params: 26,701\n",
      "Trainable params: 26,701\n",
      "Non-trainable params: 0\n",
      "_________________________________________________________________\n",
      "Train on 1593 samples, validate on 399 samples\n",
      "Epoch 1/30\n",
      "1593/1593 [==============================] - 8s 5ms/sample - loss: 0.6907 - accuracy: 0.5198 - val_loss: 0.7041 - val_accuracy: 0.4110\n",
      "Epoch 2/30\n",
      "1593/1593 [==============================] - 2s 1ms/sample - loss: 0.6077 - accuracy: 0.6403 - val_loss: 0.6110 - val_accuracy: 0.7118\n",
      "Epoch 3/30\n",
      "1593/1593 [==============================] - 2s 1ms/sample - loss: 0.4041 - accuracy: 0.8349 - val_loss: 0.5471 - val_accuracy: 0.7569\n",
      "Epoch 4/30\n",
      "1593/1593 [==============================] - 2s 1ms/sample - loss: 0.3161 - accuracy: 0.8889 - val_loss: 0.6018 - val_accuracy: 0.7494\n",
      "Epoch 5/30\n",
      "1593/1593 [==============================] - 2s 1ms/sample - loss: 0.2603 - accuracy: 0.9083 - val_loss: 0.6137 - val_accuracy: 0.7619\n",
      "Epoch 6/30\n",
      "1593/1593 [==============================] - 2s 1ms/sample - loss: 0.2134 - accuracy: 0.9316 - val_loss: 0.6514 - val_accuracy: 0.7544\n",
      "Epoch 7/30\n",
      "1593/1593 [==============================] - 2s 1ms/sample - loss: 0.1795 - accuracy: 0.9448 - val_loss: 0.7440 - val_accuracy: 0.7619\n",
      "Epoch 8/30\n",
      "1593/1593 [==============================] - 2s 1ms/sample - loss: 0.1675 - accuracy: 0.9492 - val_loss: 0.7861 - val_accuracy: 0.7619\n",
      "Epoch 9/30\n",
      "1593/1593 [==============================] - 2s 1ms/sample - loss: 0.1543 - accuracy: 0.9561 - val_loss: 0.8088 - val_accuracy: 0.7469\n",
      "Epoch 10/30\n",
      "1593/1593 [==============================] - 2s 1ms/sample - loss: 0.1448 - accuracy: 0.9586 - val_loss: 0.8097 - val_accuracy: 0.7669\n",
      "Epoch 11/30\n",
      "1593/1593 [==============================] - 2s 1ms/sample - loss: 0.1368 - accuracy: 0.9592 - val_loss: 0.8198 - val_accuracy: 0.7519\n",
      "Epoch 12/30\n",
      "1593/1593 [==============================] - 2s 1ms/sample - loss: 0.1259 - accuracy: 0.9648 - val_loss: 0.8374 - val_accuracy: 0.7694\n",
      "Epoch 13/30\n",
      "1593/1593 [==============================] - 2s 1ms/sample - loss: 0.1029 - accuracy: 0.9743 - val_loss: 0.8776 - val_accuracy: 0.7619\n",
      "Epoch 14/30\n",
      "1593/1593 [==============================] - 2s 1ms/sample - loss: 0.1004 - accuracy: 0.9761 - val_loss: 0.9991 - val_accuracy: 0.7343\n",
      "Epoch 15/30\n",
      "1593/1593 [==============================] - 2s 1ms/sample - loss: 0.1039 - accuracy: 0.9736 - val_loss: 0.8541 - val_accuracy: 0.7719\n",
      "Epoch 16/30\n",
      "1593/1593 [==============================] - 2s 1ms/sample - loss: 0.1012 - accuracy: 0.9724 - val_loss: 0.9912 - val_accuracy: 0.7519\n",
      "Epoch 17/30\n",
      "1593/1593 [==============================] - 2s 1ms/sample - loss: 0.0908 - accuracy: 0.9761 - val_loss: 1.0727 - val_accuracy: 0.7494\n",
      "Epoch 18/30\n",
      "1593/1593 [==============================] - 2s 1ms/sample - loss: 0.0794 - accuracy: 0.9793 - val_loss: 1.0358 - val_accuracy: 0.7419\n",
      "Epoch 19/30\n",
      "1593/1593 [==============================] - 2s 1ms/sample - loss: 0.0619 - accuracy: 0.9837 - val_loss: 1.0837 - val_accuracy: 0.7469\n",
      "Epoch 20/30\n",
      "1593/1593 [==============================] - 2s 1ms/sample - loss: 0.0597 - accuracy: 0.9843 - val_loss: 1.1069 - val_accuracy: 0.7419\n",
      "Epoch 21/30\n",
      "1593/1593 [==============================] - 2s 1ms/sample - loss: 0.0647 - accuracy: 0.9849 - val_loss: 1.1808 - val_accuracy: 0.7168\n",
      "Epoch 22/30\n",
      "1593/1593 [==============================] - 2s 1ms/sample - loss: 0.0472 - accuracy: 0.9868 - val_loss: 0.9915 - val_accuracy: 0.7794\n",
      "Epoch 23/30\n",
      "1593/1593 [==============================] - 2s 1ms/sample - loss: 0.0762 - accuracy: 0.9730 - val_loss: 0.9577 - val_accuracy: 0.7644\n",
      "Epoch 24/30\n",
      "1593/1593 [==============================] - 2s 1ms/sample - loss: 0.0790 - accuracy: 0.9755 - val_loss: 1.0743 - val_accuracy: 0.7093\n",
      "Epoch 25/30\n",
      "1593/1593 [==============================] - 2s 1ms/sample - loss: 0.0767 - accuracy: 0.9761 - val_loss: 0.9978 - val_accuracy: 0.7469\n",
      "Epoch 26/30\n",
      "1593/1593 [==============================] - 2s 1ms/sample - loss: 0.0365 - accuracy: 0.9881 - val_loss: 1.1230 - val_accuracy: 0.7393\n",
      "Epoch 27/30\n",
      "1593/1593 [==============================] - 2s 1ms/sample - loss: 0.0276 - accuracy: 0.9893 - val_loss: 1.1270 - val_accuracy: 0.7444\n",
      "Epoch 28/30\n",
      "1593/1593 [==============================] - 2s 1ms/sample - loss: 0.0253 - accuracy: 0.9900 - val_loss: 1.1871 - val_accuracy: 0.7368\n",
      "Epoch 29/30\n",
      "1593/1593 [==============================] - 2s 2ms/sample - loss: 0.0219 - accuracy: 0.9900 - val_loss: 1.2133 - val_accuracy: 0.7444\n",
      "Epoch 30/30\n",
      "1593/1593 [==============================] - 2s 1ms/sample - loss: 0.0206 - accuracy: 0.9900 - val_loss: 1.2783 - val_accuracy: 0.7368\n"
     ]
    },
    {
     "data": {
      "image/png": "[encoded data removed]",
      "text/plain": [
       "<Figure size 432x288 with 1 Axes>"
      ]
     },
     "metadata": {
      "needs_background": "light"
     },
     "output_type": "display_data"
    },
    {
     "data": {
      "image/png": "[encoded data removed]",
      "text/plain": [
       "<Figure size 432x288 with 1 Axes>"
      ]
     },
     "metadata": {
      "needs_background": "light"
     },
     "output_type": "display_data"
    },
    {
     "name": "stdout",
     "output_type": "stream",
     "text": [
      "[  4 281  16  25   0   0   0   0   0   0   0   0   0   0   0   0   0   0\n",
      "   0   0   0   0   0   0   0   0   0   0   0   0   0   0   0   0   0   0\n",
      "   0   0   0   0   0   0   0   0   0   0   0   0   0   0]\n",
      "I love this phone\n",
      "[0.9988427]\n",
      "\n",
      "\n",
      "[812 227 864 100 775   9 525 843   0   0   0   0   0   0   0   0   0   0\n",
      "   0   0   0   0   0   0   0   0   0   0   0   0   0   0   0   0   0   0\n",
      "   0   0   0   0   0   0   0   0   0   0   0   0   0   0]\n",
      "Everything was cold\n",
      "[0.00209102]\n",
      "\n",
      "\n",
      "[812 227 864 100 775   9 109   8 333 731  24  61   4 171  59  77   0   0\n",
      "   0   0   0   0   0   0   0   0   0   0   0   0   0   0   0   0   0   0\n",
      "   0   0   0   0   0   0   0   0   0   0   0   0   0   0]\n",
      "Everything was hot exactly as I wanted\n",
      "[0.00215756]\n",
      "\n",
      "\n",
      "[812 227 864 100 775   9 157 359 853   0   0   0   0   0   0   0   0   0\n",
      "   0   0   0   0   0   0   0   0   0   0   0   0   0   0   0   0   0   0\n",
      "   0   0   0   0   0   0   0   0   0   0   0   0   0   0]\n",
      "Everything was green\n",
      "[0.00251982]\n",
      "\n",
      "\n",
      "[  1 109 228 540 237 635 241 423 340  89 298   0   0   0   0   0   0   0\n",
      "   0   0   0   0   0   0   0   0   0   0   0   0   0   0   0   0   0   0\n",
      "   0   0   0   0   0   0   0   0   0   0   0   0   0   0]\n",
      "the host seated us immediately\n",
      "[0.0078635]\n",
      "\n",
      "\n",
      "[154 242  47 635 341  12 569 547 147 319 775 125  85   0   0   0   0   0\n",
      "   0   0   0   0   0   0   0   0   0   0   0   0   0   0   0   0   0   0\n",
      "   0   0   0   0   0   0   0   0   0   0   0   0   0   0]\n",
      "they gave us free chocolate cake\n",
      "[0.99820125]\n",
      "\n",
      "\n",
      "[158 190 853 782   8 607 775 210 232 146 775 470  67 305 101  15   1 328\n",
      " 296  26  19   1 661 641 195   0   0   0   0   0   0   0   0   0   0   0\n",
      "   0   0   0   0   0   0   0   0   0   0   0   0   0   0]\n",
      "we couldn't hear each other talk because of the shouting in the kitchen\n",
      "[0.00190987]\n",
      "\n",
      "\n"
     ]
    }
   ],
   "source": [
    "model_multiple_bidi_lstm = tf.keras.Sequential([\n",
    "    tf.keras.layers.Embedding(vocab_size, embedding_dim, input_length=max_len),\n",
    "    tf.keras.layers.Bidirectional(tf.keras.layers.LSTM(embedding_dim, \n",
    "                                                       return_sequences=True)), \n",
    "    tf.keras.layers.Bidirectional(tf.keras.layers.LSTM(embedding_dim)),\n",
    "    tf.keras.layers.Dense(6, activation='relu'),\n",
    "    tf.keras.layers.Dense(1, activation='sigmoid')\n",
    "])\n",
    "\n",
    "fit_model_and_show_results(model_multiple_bidi_lstm, fake_reviews)"
   ]
  },
  {
   "cell_type": "code",
   "execution_count": 38,
   "metadata": {},
   "outputs": [],
   "source": [
    "my_reviews =[\"lovely\", \"dreadful\", \"stay away\",\n",
    "             \"everything was hot exactly as I wanted\",\n",
    "             \"everything was not exactly as I wanted\",\n",
    "             \"they gave us free chocolate cake\",\n",
    "             \"I've never eaten anything so spicy in my life, my throat burned for hours\",\n",
    "             \"for a phone that is as expensive as this one I expect it to be much easier to use than this thing is\",\n",
    "             \"we left there very full for a low price so I'd say you just can't go wrong at this place\",\n",
    "             \"that place does not have quality meals and it isn't a good place to go for dinner\",\n",
    "             \"This was not a waste of time at all\",\n",
    "             ]"
   ]
  },
  {
   "cell_type": "code",
   "execution_count": 39,
   "metadata": {},
   "outputs": [
    {
     "name": "stdout",
     "output_type": "stream",
     "text": [
      "===================================\n",
      " Embeddings only:\n",
      " ===================================\n",
      "lovely\n",
      "[0.88503855]\n",
      "\n",
      "\n",
      "dreadful\n",
      "[0.46478623]\n",
      "\n",
      "\n",
      "stay away\n",
      "[0.6858186]\n",
      "\n",
      "\n",
      "everything was hot exactly as I wanted\n",
      "[0.642535]\n",
      "\n",
      "\n",
      "everything was not exactly as I wanted\n",
      "[0.4597507]\n",
      "\n",
      "\n",
      "they gave us free chocolate cake\n",
      "[0.70615107]\n",
      "\n",
      "\n",
      "I've never eaten anything so spicy in my life, my throat burned for hours\n",
      "[0.04757803]\n",
      "\n",
      "\n",
      "for a phone that is as expensive as this one I expect it to be much easier to use than this thing is\n",
      "[0.5628118]\n",
      "\n",
      "\n",
      "we left there very full for a low price so I'd say you just can't go wrong at this place\n",
      "[0.7804147]\n",
      "\n",
      "\n",
      "that place does not have quality meals and it isn't a good place to go for dinner\n",
      "[0.7877849]\n",
      "\n",
      "\n",
      "This was not a waste of time at all\n",
      "[0.01243377]\n",
      "\n",
      "\n"
     ]
    }
   ],
   "source": [
    "print(\"===================================\\n\",\"Embeddings only:\\n\", \"===================================\",)\n",
    "predict_review(model, my_reviews, show_padded_sequence=False)"
   ]
  },
  {
   "cell_type": "code",
   "execution_count": 40,
   "metadata": {},
   "outputs": [
    {
     "name": "stdout",
     "output_type": "stream",
     "text": [
      "===================================\n",
      " With a single bidirectional LSTM:\n",
      " ===================================\n",
      "lovely\n",
      "[0.99428976]\n",
      "\n",
      "\n",
      "dreadful\n",
      "[0.00842947]\n",
      "\n",
      "\n",
      "stay away\n",
      "[0.30759808]\n",
      "\n",
      "\n",
      "everything was hot exactly as I wanted\n",
      "[0.9946831]\n",
      "\n",
      "\n",
      "everything was not exactly as I wanted\n",
      "[0.8757534]\n",
      "\n",
      "\n",
      "they gave us free chocolate cake\n",
      "[0.44906592]\n",
      "\n",
      "\n",
      "I've never eaten anything so spicy in my life, my throat burned for hours\n",
      "[0.010416]\n",
      "\n",
      "\n",
      "for a phone that is as expensive as this one I expect it to be much easier to use than this thing is\n",
      "[0.99617046]\n",
      "\n",
      "\n",
      "we left there very full for a low price so I'd say you just can't go wrong at this place\n",
      "[0.9957925]\n",
      "\n",
      "\n",
      "that place does not have quality meals and it isn't a good place to go for dinner\n",
      "[0.99143606]\n",
      "\n",
      "\n",
      "This was not a waste of time at all\n",
      "[1.5514367e-07]\n",
      "\n",
      "\n"
     ]
    }
   ],
   "source": [
    "print(\"===================================\\n\", \"With a single bidirectional LSTM:\\n\", \"===================================\")\n",
    "predict_review(model_bidi_lstm, my_reviews, show_padded_sequence=False)"
   ]
  },
  {
   "cell_type": "code",
   "execution_count": 41,
   "metadata": {},
   "outputs": [
    {
     "name": "stdout",
     "output_type": "stream",
     "text": [
      "===================================\n",
      " With two bidirectional LSTMs:\n",
      " ===================================\n",
      "lovely\n",
      "[0.99867827]\n",
      "\n",
      "\n",
      "dreadful\n",
      "[0.00335579]\n",
      "\n",
      "\n",
      "stay away\n",
      "[0.00336212]\n",
      "\n",
      "\n",
      "everything was hot exactly as I wanted\n",
      "[0.90019554]\n",
      "\n",
      "\n",
      "everything was not exactly as I wanted\n",
      "[0.00321327]\n",
      "\n",
      "\n",
      "they gave us free chocolate cake\n",
      "[0.99820125]\n",
      "\n",
      "\n",
      "I've never eaten anything so spicy in my life, my throat burned for hours\n",
      "[0.01520504]\n",
      "\n",
      "\n",
      "for a phone that is as expensive as this one I expect it to be much easier to use than this thing is\n",
      "[0.00461772]\n",
      "\n",
      "\n",
      "we left there very full for a low price so I'd say you just can't go wrong at this place\n",
      "[0.9922854]\n",
      "\n",
      "\n",
      "that place does not have quality meals and it isn't a good place to go for dinner\n",
      "[0.00327008]\n",
      "\n",
      "\n",
      "This was not a waste of time at all\n",
      "[0.00517496]\n",
      "\n",
      "\n"
     ]
    }
   ],
   "source": [
    "print(\"===================================\\n\",\"With two bidirectional LSTMs:\\n\", \"===================================\")\n",
    "predict_review(model_multiple_bidi_lstm, my_reviews, show_padded_sequence=False)"
   ]
  },
  {
   "cell_type": "code",
   "execution_count": null,
   "metadata": {},
   "outputs": [],
   "source": []
  }
 ],
 "metadata": {
  "kernelspec": {
   "display_name": "Python 3",
   "language": "python",
   "name": "python3"
  },
  "language_info": {
   "codemirror_mode": {
    "name": "ipython",
    "version": 3
   },
   "file_extension": ".py",
   "mimetype": "text/x-python",
   "name": "python",
   "nbconvert_exporter": "python",
   "pygments_lexer": "ipython3",
   "version": "3.7.7"
  }
 },
 "nbformat": 4,
 "nbformat_minor": 4
}
