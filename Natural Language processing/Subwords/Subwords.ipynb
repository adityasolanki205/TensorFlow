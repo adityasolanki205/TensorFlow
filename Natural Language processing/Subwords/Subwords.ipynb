{
 "cells": [
  {
   "cell_type": "code",
   "execution_count": 3,
   "metadata": {},
   "outputs": [],
   "source": [
    "import tensorflow as tf\n",
    "from tensorflow.keras.preprocessing.text import Tokenizer\n",
    "from tensorflow.keras.preprocessing.sequence import pad_sequences"
   ]
  },
  {
   "cell_type": "code",
   "execution_count": 4,
   "metadata": {},
   "outputs": [],
   "source": [
    "import numpy as np\n",
    "import pandas as pd"
   ]
  },
  {
   "cell_type": "code",
   "execution_count": 7,
   "metadata": {},
   "outputs": [],
   "source": [
    "dataset = pd.read_csv('combined_data.csv')"
   ]
  },
  {
   "cell_type": "code",
   "execution_count": 8,
   "metadata": {},
   "outputs": [],
   "source": [
    "sentences = dataset['text'].tolist()\n",
    "labels = dataset['sentiment'].tolist()"
   ]
  },
  {
   "cell_type": "code",
   "execution_count": 9,
   "metadata": {},
   "outputs": [],
   "source": [
    "import tensorflow_datasets as tfds"
   ]
  },
  {
   "cell_type": "code",
   "execution_count": 10,
   "metadata": {},
   "outputs": [],
   "source": [
    "vocab_size = 1000\n",
    "tokenizer = tfds.features.text.SubwordTextEncoder.build_from_corpus(\n",
    "    sentences, vocab_size, max_subword_length=5\n",
    ")"
   ]
  },
  {
   "cell_type": "code",
   "execution_count": 11,
   "metadata": {},
   "outputs": [
    {
     "name": "stdout",
     "output_type": "stream",
     "text": [
      "I have to jiggle the plug to get it to line up right to get decent volume.\n",
      "[4, 31, 6, 849, 162, 450, 12, 1, 600, 438, 775, 6, 175, 14, 6, 55, 213, 159, 474, 775, 6, 175, 614, 380, 295, 148, 72, 789]\n"
     ]
    }
   ],
   "source": [
    "num = 5\n",
    "print(sentences[num])\n",
    "encoded = tokenizer.encode(sentences[num])\n",
    "print(encoded)"
   ]
  },
  {
   "cell_type": "code",
   "execution_count": 12,
   "metadata": {},
   "outputs": [
    {
     "name": "stdout",
     "output_type": "stream",
     "text": [
      "I \n",
      "have \n",
      "to \n",
      "j\n",
      "ig\n",
      "gl\n",
      "e \n",
      "the \n",
      "pl\n",
      "ug\n",
      " \n",
      "to \n",
      "get \n",
      "it \n",
      "to \n",
      "li\n",
      "ne \n",
      "up \n",
      "right\n",
      " \n",
      "to \n",
      "get \n",
      "dec\n",
      "ent \n",
      "vo\n",
      "lu\n",
      "me\n",
      ".\n"
     ]
    }
   ],
   "source": [
    "for i in encoded:\n",
    "    print(tokenizer.decode([i]))"
   ]
  },
  {
   "cell_type": "code",
   "execution_count": 14,
   "metadata": {},
   "outputs": [],
   "source": [
    "for i , sequence in enumerate(sentences):\n",
    "    sentences[i]=tokenizer.encode(sequence)"
   ]
  },
  {
   "cell_type": "code",
   "execution_count": 15,
   "metadata": {},
   "outputs": [
    {
     "data": {
      "text/plain": [
       "[736,\n",
       " 168,\n",
       " 775,\n",
       " 7,\n",
       " 193,\n",
       " 417,\n",
       " 17,\n",
       " 94,\n",
       " 6,\n",
       " 600,\n",
       " 438,\n",
       " 775,\n",
       " 14,\n",
       " 19,\n",
       " 141,\n",
       " 19,\n",
       " 1,\n",
       " 828,\n",
       " 826,\n",
       " 775,\n",
       " 99,\n",
       " 445,\n",
       " 4,\n",
       " 174,\n",
       " 361,\n",
       " 5,\n",
       " 79,\n",
       " 227,\n",
       " 139,\n",
       " 789]"
      ]
     },
     "execution_count": 15,
     "metadata": {},
     "output_type": "execute_result"
    }
   ],
   "source": [
    "sentences[0]"
   ]
  },
  {
   "cell_type": "code",
   "execution_count": 17,
   "metadata": {},
   "outputs": [],
   "source": [
    "max_length = 50\n",
    "trunc_type='post'\n",
    "padding_type='post'\n",
    "\n",
    "\n",
    "\n",
    "sentences_padded = pad_sequences(sentences,maxlen=max_length, padding=padding_type, \n",
    "                       truncating=trunc_type)\n",
    "\n",
    "training_size = int(len(sentences) * 0.8)\n",
    "\n",
    "training_sentences = sentences_padded[0:training_size]\n",
    "testing_sentences = sentences_padded[training_size:]\n",
    "training_labels = labels[0:training_size]\n",
    "testing_labels = labels[training_size:]\n",
    "\n",
    "# Make labels into numpy arrays for use with the network later\n",
    "training_labels_final = np.array(training_labels)\n",
    "testing_labels_final = np.array(testing_labels)"
   ]
  },
  {
   "cell_type": "code",
   "execution_count": 18,
   "metadata": {},
   "outputs": [
    {
     "name": "stdout",
     "output_type": "stream",
     "text": [
      "Model: \"sequential\"\n",
      "_________________________________________________________________\n",
      "Layer (type)                 Output Shape              Param #   \n",
      "=================================================================\n",
      "embedding (Embedding)        (None, 50, 16)            16000     \n",
      "_________________________________________________________________\n",
      "global_average_pooling1d (Gl (None, 16)                0         \n",
      "_________________________________________________________________\n",
      "dense (Dense)                (None, 6)                 102       \n",
      "_________________________________________________________________\n",
      "dense_1 (Dense)              (None, 1)                 7         \n",
      "=================================================================\n",
      "Total params: 16,109\n",
      "Trainable params: 16,109\n",
      "Non-trainable params: 0\n",
      "_________________________________________________________________\n"
     ]
    }
   ],
   "source": [
    "embedding_dim = 16\n",
    "model = tf.keras.Sequential([\n",
    "    tf.keras.layers.Embedding(vocab_size, embedding_dim, input_length=max_length),\n",
    "    tf.keras.layers.GlobalAveragePooling1D(),\n",
    "    tf.keras.layers.Dense(6, activation='relu'),\n",
    "    tf.keras.layers.Dense(1, activation='sigmoid')\n",
    "])\n",
    "model.compile(optimizer = 'adam', loss = 'binary_crossentropy', metrics=['accuracy'])\n",
    "model.summary()"
   ]
  },
  {
   "cell_type": "code",
   "execution_count": 19,
   "metadata": {},
   "outputs": [
    {
     "name": "stdout",
     "output_type": "stream",
     "text": [
      "Train on 1593 samples, validate on 399 samples\n",
      "Epoch 1/30\n",
      "1593/1593 [==============================] - 1s 694us/sample - loss: 0.6904 - accuracy: 0.5242 - val_loss: 0.6993 - val_accuracy: 0.4211\n",
      "Epoch 2/30\n",
      "1593/1593 [==============================] - 0s 67us/sample - loss: 0.6847 - accuracy: 0.5461 - val_loss: 0.6951 - val_accuracy: 0.4612\n",
      "Epoch 3/30\n",
      "1593/1593 [==============================] - 0s 81us/sample - loss: 0.6752 - accuracy: 0.6058 - val_loss: 0.6895 - val_accuracy: 0.5038\n",
      "Epoch 4/30\n",
      "1593/1593 [==============================] - 0s 92us/sample - loss: 0.6613 - accuracy: 0.6284 - val_loss: 0.6758 - val_accuracy: 0.5514\n",
      "Epoch 5/30\n",
      "1593/1593 [==============================] - 0s 57us/sample - loss: 0.6412 - accuracy: 0.6805 - val_loss: 0.6555 - val_accuracy: 0.6692\n",
      "Epoch 6/30\n",
      "1593/1593 [==============================] - 0s 111us/sample - loss: 0.6139 - accuracy: 0.7615 - val_loss: 0.6441 - val_accuracy: 0.6266\n",
      "Epoch 7/30\n",
      "1593/1593 [==============================] - 0s 69us/sample - loss: 0.5812 - accuracy: 0.7659 - val_loss: 0.6081 - val_accuracy: 0.7293\n",
      "Epoch 8/30\n",
      "1593/1593 [==============================] - 0s 71us/sample - loss: 0.5410 - accuracy: 0.8249 - val_loss: 0.5920 - val_accuracy: 0.7118\n",
      "Epoch 9/30\n",
      "1593/1593 [==============================] - 0s 67us/sample - loss: 0.5002 - accuracy: 0.8387 - val_loss: 0.5699 - val_accuracy: 0.7168\n",
      "Epoch 10/30\n",
      "1593/1593 [==============================] - 0s 60us/sample - loss: 0.4633 - accuracy: 0.8399 - val_loss: 0.5353 - val_accuracy: 0.7719\n",
      "Epoch 11/30\n",
      "1593/1593 [==============================] - 0s 64us/sample - loss: 0.4272 - accuracy: 0.8594 - val_loss: 0.5183 - val_accuracy: 0.7669\n",
      "Epoch 12/30\n",
      "1593/1593 [==============================] - 0s 79us/sample - loss: 0.3954 - accuracy: 0.8625 - val_loss: 0.5149 - val_accuracy: 0.7444\n",
      "Epoch 13/30\n",
      "1593/1593 [==============================] - 0s 87us/sample - loss: 0.3666 - accuracy: 0.8726 - val_loss: 0.5168 - val_accuracy: 0.7444\n",
      "Epoch 14/30\n",
      "1593/1593 [==============================] - 0s 66us/sample - loss: 0.3431 - accuracy: 0.8801 - val_loss: 0.5139 - val_accuracy: 0.7494\n",
      "Epoch 15/30\n",
      "1593/1593 [==============================] - 0s 65us/sample - loss: 0.3212 - accuracy: 0.8895 - val_loss: 0.5277 - val_accuracy: 0.7419\n",
      "Epoch 16/30\n",
      "1593/1593 [==============================] - 0s 66us/sample - loss: 0.3054 - accuracy: 0.8908 - val_loss: 0.5043 - val_accuracy: 0.7519\n",
      "Epoch 17/30\n",
      "1593/1593 [==============================] - 0s 56us/sample - loss: 0.2873 - accuracy: 0.9027 - val_loss: 0.5025 - val_accuracy: 0.7544\n",
      "Epoch 18/30\n",
      "1593/1593 [==============================] - 0s 69us/sample - loss: 0.2740 - accuracy: 0.9021 - val_loss: 0.5046 - val_accuracy: 0.7569\n",
      "Epoch 19/30\n",
      "1593/1593 [==============================] - 0s 78us/sample - loss: 0.2591 - accuracy: 0.9065 - val_loss: 0.5040 - val_accuracy: 0.7494\n",
      "Epoch 20/30\n",
      "1593/1593 [==============================] - 0s 74us/sample - loss: 0.2460 - accuracy: 0.9153 - val_loss: 0.5312 - val_accuracy: 0.7519\n",
      "Epoch 21/30\n",
      "1593/1593 [==============================] - 0s 63us/sample - loss: 0.2371 - accuracy: 0.9222 - val_loss: 0.5261 - val_accuracy: 0.7569\n",
      "Epoch 22/30\n",
      "1593/1593 [==============================] - 0s 55us/sample - loss: 0.2268 - accuracy: 0.9234 - val_loss: 0.5231 - val_accuracy: 0.7519\n",
      "Epoch 23/30\n",
      "1593/1593 [==============================] - 0s 99us/sample - loss: 0.2163 - accuracy: 0.9284 - val_loss: 0.5302 - val_accuracy: 0.7519\n",
      "Epoch 24/30\n",
      "1593/1593 [==============================] - 0s 69us/sample - loss: 0.2082 - accuracy: 0.9316 - val_loss: 0.5705 - val_accuracy: 0.7419\n",
      "Epoch 25/30\n",
      "1593/1593 [==============================] - 0s 55us/sample - loss: 0.2006 - accuracy: 0.9328 - val_loss: 0.5445 - val_accuracy: 0.7494\n",
      "Epoch 26/30\n",
      "1593/1593 [==============================] - 0s 62us/sample - loss: 0.1915 - accuracy: 0.9372 - val_loss: 0.5730 - val_accuracy: 0.7393\n",
      "Epoch 27/30\n",
      "1593/1593 [==============================] - 0s 61us/sample - loss: 0.1842 - accuracy: 0.9454 - val_loss: 0.5571 - val_accuracy: 0.7544\n",
      "Epoch 28/30\n",
      "1593/1593 [==============================] - 0s 64us/sample - loss: 0.1784 - accuracy: 0.9435 - val_loss: 0.5835 - val_accuracy: 0.7469\n",
      "Epoch 29/30\n",
      "1593/1593 [==============================] - 0s 56us/sample - loss: 0.1717 - accuracy: 0.9435 - val_loss: 0.5933 - val_accuracy: 0.7519\n",
      "Epoch 30/30\n",
      "1593/1593 [==============================] - 0s 62us/sample - loss: 0.1663 - accuracy: 0.9517 - val_loss: 0.5974 - val_accuracy: 0.7569\n"
     ]
    }
   ],
   "source": [
    "num_epochs = 30\n",
    "history = model.fit(training_sentences, training_labels_final, epochs=num_epochs, \n",
    "                    validation_data=(testing_sentences, testing_labels_final))"
   ]
  },
  {
   "cell_type": "code",
   "execution_count": 20,
   "metadata": {},
   "outputs": [
    {
     "data": {
      "image/png": "[encoded data removed]",
      "text/plain": [
       "<Figure size 432x288 with 1 Axes>"
      ]
     },
     "metadata": {
      "needs_background": "light"
     },
     "output_type": "display_data"
    },
    {
     "data": {
      "image/png": "[encoded data removed]",
      "text/plain": [
       "<Figure size 432x288 with 1 Axes>"
      ]
     },
     "metadata": {
      "needs_background": "light"
     },
     "output_type": "display_data"
    }
   ],
   "source": [
    "import matplotlib.pyplot as plt\n",
    "\n",
    "\n",
    "def plot_graphs(history, string):\n",
    "    plt.plot(history.history[string])\n",
    "    plt.plot(history.history['val_'+string])\n",
    "    plt.xlabel(\"Epochs\")\n",
    "    plt.ylabel(string)\n",
    "    plt.legend([string, 'val_'+string])\n",
    "    plt.show()\n",
    "\n",
    "plot_graphs(history, \"accuracy\")\n",
    "plot_graphs(history, \"loss\")"
   ]
  },
  {
   "cell_type": "code",
   "execution_count": null,
   "metadata": {},
   "outputs": [],
   "source": []
  }
 ],
 "metadata": {
  "kernelspec": {
   "display_name": "Python 3",
   "language": "python",
   "name": "python3"
  },
  "language_info": {
   "codemirror_mode": {
    "name": "ipython",
    "version": 3
   },
   "file_extension": ".py",
   "mimetype": "text/x-python",
   "name": "python",
   "nbconvert_exporter": "python",
   "pygments_lexer": "ipython3",
   "version": "3.7.7"
  }
 },
 "nbformat": 4,
 "nbformat_minor": 4
}
