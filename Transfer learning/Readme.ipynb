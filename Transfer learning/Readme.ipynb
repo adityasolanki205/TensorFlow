{
 "cells": [
  {
   "cell_type": "markdown",
   "metadata": {},
   "source": [
    "# TensorFlow\n",
    "\n",
    "### Transfer Learning\n",
    "\n",
    "This Sub folder contains code for transfer learning from existing Tensorflow model mobilenetv2.\n",
    "\n",
    "1. Below are the workbooks present it explain PyTorch:\n",
    "\n",
    "    - Transfer Learning.ipynb"
   ]
  }
 ],
 "metadata": {
  "kernelspec": {
   "display_name": "Python 3",
   "language": "python",
   "name": "python3"
  },
  "language_info": {
   "codemirror_mode": {
    "name": "ipython",
    "version": 3
   },
   "file_extension": ".py",
   "mimetype": "text/x-python",
   "name": "python",
   "nbconvert_exporter": "python",
   "pygments_lexer": "ipython3",
   "version": "3.7.7"
  }
 },
 "nbformat": 4,
 "nbformat_minor": 2
}
